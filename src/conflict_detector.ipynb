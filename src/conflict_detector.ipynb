{
 "cells": [
  {
   "cell_type": "code",
   "execution_count": 28,
   "metadata": {},
   "outputs": [],
   "source": [
    "import json\n",
    "import networkx as nx\n",
    "import pandas as pd\n",
    "\n",
    "from collections import namedtuple"
   ]
  },
  {
   "cell_type": "markdown",
   "metadata": {},
   "source": [
    "#### Licence categories"
   ]
  },
  {
   "cell_type": "code",
   "execution_count": null,
   "metadata": {},
   "outputs": [],
   "source": [
    "# we have several categories of license.\n",
    "# In the paper \"Open Source License Inconsistencies on GitHub\", they distinguish between:\n",
    "# 1. permissive\n",
    "# 2. weak copyleft\n",
    "# 3. (strong) copyleft\n",
    "# 4. other"
   ]
  },
  {
   "cell_type": "code",
   "execution_count": 3,
   "metadata": {},
   "outputs": [],
   "source": [
    "# scancodedb\n",
    "scancodedb_path = '../data/scancode_index.json'\n",
    "db = json.load(open(scancodedb_path, 'r'))"
   ]
  },
  {
   "cell_type": "code",
   "execution_count": 5,
   "metadata": {},
   "outputs": [
    {
     "data": {
      "text/plain": [
       "{'license_key': '389-exception',\n",
       " 'category': 'Copyleft Limited',\n",
       " 'spdx_license_key': '389-exception',\n",
       " 'other_spdx_license_keys': [],\n",
       " 'is_exception': True,\n",
       " 'is_deprecated': False,\n",
       " 'json': '389-exception.json',\n",
       " 'yaml': '389-exception.yml',\n",
       " 'html': '389-exception.html',\n",
       " 'license': '389-exception.LICENSE'}"
      ]
     },
     "execution_count": 5,
     "metadata": {},
     "output_type": "execute_result"
    }
   ],
   "source": [
    "# example\n",
    "db[0]"
   ]
  },
  {
   "cell_type": "code",
   "execution_count": 8,
   "metadata": {},
   "outputs": [],
   "source": [
    "# store all license categories\n",
    "license_categories = set([data['category'] for data in db])"
   ]
  },
  {
   "cell_type": "code",
   "execution_count": 9,
   "metadata": {},
   "outputs": [
    {
     "data": {
      "text/plain": [
       "{'CLA',\n",
       " 'Commercial',\n",
       " 'Copyleft',\n",
       " 'Copyleft Limited',\n",
       " 'Free Restricted',\n",
       " 'Patent License',\n",
       " 'Permissive',\n",
       " 'Proprietary Free',\n",
       " 'Public Domain',\n",
       " 'Source-available',\n",
       " 'Unstated License'}"
      ]
     },
     "execution_count": 9,
     "metadata": {},
     "output_type": "execute_result"
    }
   ],
   "source": [
    "license_categories"
   ]
  },
  {
   "cell_type": "code",
   "execution_count": null,
   "metadata": {},
   "outputs": [],
   "source": [
    "# https://www.gnu.org/philosophy/categories.html\n",
    "# FREE\n",
    "# 'Public Domain' > 'Permissive' > 'Copyleft Limited' or 'Weak Copyleft' > 'Copyleft' or 'Strong Copyleft' \n",
    "#\n",
    "# - 'CLA' (Contributor License Agreement) used with Copyleft licenses (https://en.wikipedia.org/wiki/Contributor_License_Agreement)\n",
    "# - 'Proprietary Free'?\n",
    "#\n",
    "# NON-FREE\n",
    "# 'Commercial'\n",
    "# 'Source-available' ( The source code or installers are publicly available, but they do not guarantee the same freedom of open-source)\n",
    "# 'Patent License'\n",
    "# 'Free Restricted'?\n",
    "#\n",
    "# UNSTATED\n",
    "# 'Unstated License'"
   ]
  },
  {
   "cell_type": "code",
   "execution_count": 10,
   "metadata": {},
   "outputs": [],
   "source": [
    "FREE_LICENSES = ['Public Domain', 'Permissive', 'Copyleft Limited', 'Copyleft', 'Proprietary Free']\n",
    "NON_FREE_LICENSES = ['Commercial', 'Source-available', 'Patent License', 'Free Restricted']"
   ]
  },
  {
   "cell_type": "markdown",
   "metadata": {},
   "source": [
    "#### Inconsistency detector"
   ]
  },
  {
   "cell_type": "code",
   "execution_count": 20,
   "metadata": {},
   "outputs": [],
   "source": [
    "# Find whether there is an inconsistency between two licenses\n",
    "# - The term inconsistency refers to the use of two different licenses within the same project.\n",
    "def find_inconsistency(licence_type_1, licence_type_2):\n",
    "    hybrid_inconsistence = False\n",
    "    unstated_license = False\n",
    "\n",
    "    License_inconsistency = namedtuple('License_inconsistency', ['inconsistency', 'hybrid_inconsistency', 'unstated_license'])\n",
    "\n",
    "    # no inconsistency if both licences are equal\n",
    "    if licence_type_1 == licence_type_2:\n",
    "        return License_inconsistency(False, hybrid_inconsistence, unstated_license)\n",
    "    \n",
    "    # flag unstated license\n",
    "    if licence_type_1 == 'Unstated License' or licence_type_2 == 'Unstated License':\n",
    "        unstated_license = True\n",
    "    \n",
    "    # no inconsistency if one of the licences is public domain\n",
    "    if licence_type_1 == 'Public Domain' or licence_type_2 == 'Public Domain':\n",
    "        return License_inconsistency(False, hybrid_inconsistence, unstated_license)\n",
    "    else:\n",
    "        # there is an inconsistency if both licenses are free or non-free, but are not the same\n",
    "        if licence_type_1 in FREE_LICENSES and licence_type_2 in FREE_LICENSES:\n",
    "            return License_inconsistency(True, hybrid_inconsistence, unstated_license)\n",
    "        elif licence_type_1 in NON_FREE_LICENSES and licence_type_2 in NON_FREE_LICENSES:\n",
    "            return License_inconsistency(True, hybrid_inconsistence, unstated_license)\n",
    "        else:\n",
    "            # there is an inconsistency if one of the licenses is free and the other is non-free\n",
    "            hybrid_inconsistence = True\n",
    "            return License_inconsistency(True, hybrid_inconsistence, unstated_license)"
   ]
  },
  {
   "cell_type": "code",
   "execution_count": 25,
   "metadata": {},
   "outputs": [
    {
     "name": "stdout",
     "output_type": "stream",
     "text": [
      "License_inconsistency(inconsistency=False, hybrid_inconsistency=False, unstated_license=False)\n",
      "License_inconsistency(inconsistency=True, hybrid_inconsistency=True, unstated_license=True)\n",
      "License_inconsistency(inconsistency=True, hybrid_inconsistency=False, unstated_license=False)\n",
      "License_inconsistency(inconsistency=False, hybrid_inconsistency=False, unstated_license=False)\n",
      "License_inconsistency(inconsistency=True, hybrid_inconsistency=True, unstated_license=False)\n"
     ]
    }
   ],
   "source": [
    "print(find_inconsistency('Permissive', 'Permissive'))\n",
    "print(find_inconsistency('Permissive', 'Unstated License'))\n",
    "print(find_inconsistency('Permissive', 'Copyleft Limited'))\n",
    "print(find_inconsistency('Copyleft Limited', 'Public Domain'))\n",
    "print(find_inconsistency('Copyleft Limited', 'Commercial'))"
   ]
  },
  {
   "cell_type": "markdown",
   "metadata": {},
   "source": [
    "#### Conflict detector"
   ]
  },
  {
   "cell_type": "code",
   "execution_count": null,
   "metadata": {},
   "outputs": [],
   "source": [
    "# we need to build a direct graph to represent the dependencies between licenses\n",
    "# if there is a direct path between two nodes, then the two licenses are compatible\n",
    "# we focus on the compatibility of the most common FOSS (free and open-source sw) licenses\n",
    "# - spdx_license_key\n",
    "# - compatibilit graph: https://en.wikipedia.org/wiki/License_compatibility"
   ]
  },
  {
   "cell_type": "code",
   "execution_count": 42,
   "metadata": {},
   "outputs": [],
   "source": [
    "compatibility_data = pd.read_csv('../data/compatibility_graph.graph')\n",
    "compatibility_graph = nx.from_pandas_edgelist(compatibility_data, source='license_1', target='license_2', create_using=nx.DiGraph())"
   ]
  },
  {
   "cell_type": "code",
   "execution_count": 45,
   "metadata": {},
   "outputs": [],
   "source": [
    "def find_conflict(license_1, license_2, compatibility_graph):\n",
    "    if not license_1 in compatibility_graph.nodes() or not license_2 in compatibility_graph.nodes():\n",
    "        print('One of the licenses is not among the most common FOSS licenses or is misspelled')\n",
    "        return False\n",
    "    \n",
    "    # if there is a path between license_1 and license_2, then they are compatible\n",
    "    if nx.has_path(compatibility_graph, license_1, license_2):\n",
    "        return True\n",
    "    else:\n",
    "        print('The two licenses are not compatible')\n",
    "        return False"
   ]
  },
  {
   "cell_type": "code",
   "execution_count": 46,
   "metadata": {},
   "outputs": [
    {
     "name": "stdout",
     "output_type": "stream",
     "text": [
      "True\n",
      "One of the licenses is not among the most common FOSS licenses or is misspelled\n",
      "False\n",
      "The two licenses are not compatible\n",
      "False\n"
     ]
    }
   ],
   "source": [
    "print(find_conflict('MIT', 'GPL-3.0-only', compatibility_graph))\n",
    "print(find_conflict('MIT', 'GPL-3.0', compatibility_graph))\n",
    "print(find_conflict('GPL-3.0-or-later', 'MIT', compatibility_graph))"
   ]
  }
 ],
 "metadata": {
  "kernelspec": {
   "display_name": "env",
   "language": "python",
   "name": "python3"
  },
  "language_info": {
   "codemirror_mode": {
    "name": "ipython",
    "version": 3
   },
   "file_extension": ".py",
   "mimetype": "text/x-python",
   "name": "python",
   "nbconvert_exporter": "python",
   "pygments_lexer": "ipython3",
   "version": "3.11.4"
  },
  "orig_nbformat": 4
 },
 "nbformat": 4,
 "nbformat_minor": 2
}
